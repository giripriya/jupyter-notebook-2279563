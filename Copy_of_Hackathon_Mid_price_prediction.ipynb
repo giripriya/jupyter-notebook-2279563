{
 "cells": [
  {
   "cell_type": "markdown",
   "metadata": {
    "colab_type": "text",
    "id": "6Au_M-FbrQK0"
   },
   "source": [
    "<h2> Rules </h2>\n",
    "\n",
    "<li> Submission deadline is 22-March-2018 11:59 IST</li>\n",
    "<li> Output should be in the specified format below </li>\n"
   ]
  },
  {
   "cell_type": "markdown",
   "metadata": {
    "colab_type": "text",
    "id": "XVNKK2CNrQK0"
   },
   "source": [
    "<h3>Background Summary</h3>\n",
    "\n",
    "An order driven market is a financial market where all buyers and sellers display the prices at which they wish to buy or sell a particular security, as well as the amounts of the security desired to be bought or sold. In these markets, participants may submit limit orders or market orders. \n",
    "\n",
    "In a limit order, you specify how much of the asset you want to buy or sell, and the price you want. If there are matching orders on the book (e.g. someone who wants to sell at the same price, or lower, as the price at which you want to buy), your order will be filled immediately. If not, your order will stay on the book until matching orders arrive (which could be never). It is also possible for a limit order to be only partially filled, if the counterparty wants to trade a smaller amount than you did. In that case the rest of the order remains on the book.\n",
    "\n",
    "In a market order, you only specify how much of the asset you want to trade. Your order is then filled immediately at the best price currently available on the market. For instance, if you place a market buy order, you will be matched with the current lowest-priced sell order on the book. If that order is not large enough to completely fill yours, the next-lowest sell order will be used to fill some more of yours, and so on.(You are encouraged to go through the 1st suggested reading for a pictorial understanding of order book and price dynamics)\n",
    "\n",
    "In this competition, we use tick data. Tick data refers to any market data which shows the price and volume of every print.  Additionally changes to the state of the order book occur in the form of trades and quotes. A quote event occurs whenever the best bid or the ask price is updated. A trade event takes place when shares are bought or sold.\n",
    "\n",
    "The aim of this competition is to determine the relationship between recent past order book events and future stock price for 30 seconds time-horizons. Few factors that are explored in the literature to predict price movements:  \n",
    "<li>Order arrival rate</li>\n",
    "<li>Bid-ask spread</li>\n",
    "<li>Order book imbalance</li>\n",
    "<li>Trade volume @ Bid price vs Trade volume @ Ask price</li>\n",
    "\n",
    "Certain factors, such as current order book imbalance, tend to have good predictive power for very short-time time-horizons (under 10-20 seconds), however other factors might be important for time-horizons of more than a minute.\n",
    "\n",
    "Equity markets are very fast and it is important to understand that multiple high-frequency events can occur in the same milliseconds. Analysing and understanding the data is critical before applying machine learning models.\n",
    "\n",
    "This problem is based on real-life problem we work on. Another important point to note - trade event and quote event timestamp will rarely be at the same-time, usually quote event time stamp is before trade event time stamp. Refer to examples in the <a href=\"https://pandas.pydata.org/pandas-docs/stable/generated/pandas.merge_asof.html\">link</a> on how you could join this data \n",
    "\n",
    "\n",
    "<h2> Suggested Reading </h2>\n",
    "\n",
    "Basic introduction of Limit Order Book\n",
    "<li><a href=\"https://journal.r-project.org/archive/2011/RJ-2011-010/RJ-2011-010.pdf\"> Analyzing an Electronic Limit Order Book </a></li>\n",
    "<li><a href=\"https://www.amazon.in/Algorithmic-Trading-DMA-Introduction-Strategies/dp/0956399207\">Algorithmic Trading and DMA</a></li>\n",
    "<li><a href=\"https://www.quantstart.com/articles/high-frequency-trading-ii-limit-order-book\">HFT - Limit Order Book</a></li>\n",
    "\n",
    "<br/>\n",
    "Advanced Topics \n",
    "<li><a href=\"http://www.personal.psu.edu/qxc2/research/jfuturesmarkets-2008.pdf\"> The Information Content of an Open Limit Order Book</a></li>\n",
    "<li><a href=\"http://eprints.maths.ox.ac.uk/1895/1/Darryl%20Shen%20%28for%20archive%29.pdf\"> Order Imbalance Based Strategy in High Frequency Trading</a></li>\n"
   ]
  },
  {
   "cell_type": "markdown",
   "metadata": {
    "colab_type": "text",
    "id": "T0rnHRMBrQK0"
   },
   "source": [
    "<h2>Problem Statement</h2>\n",
    "\n",
    "The aim of the problem is to develop a forecasting model to predict a stock's short-term price movement. The use of such prediction models is widely prevalent in algorithmic trading. Algorithmic trading, sometimes referred to as high-frequency trading in specific circumstances, is the use of automated systems to identify true(money making) signals among massive amounts of data that capture the underlying stock dynamics. These models can be leveraged to develop profitable trading strategies(akin to hedge funds) to help investors/traders achieve better returns. Contestants are expected and encouraged to think of empirical models/heuristics in order to better predict the price evolution of the hypothetical stock.\n",
    "\n",
    "<br/><br/>"
   ]
  },
  {
   "cell_type": "markdown",
   "metadata": {
    "colab_type": "text",
    "id": "jZ0pCTyvQql9"
   },
   "source": [
    "<h2>Submission Instructions</h2>\n",
    "<br/>Algorithm/model should be developed without changing the order in the submission. Steps mentioned is the order of code execution.\n",
    "<ol>\n",
    "  <li>Download files if not in local environment</li>\n",
    "<li>Install all required libraries</li>\n",
    "<li>Parameters such as file names for in-sample data & out-sample data</li>\n",
    "<li>Algo-specific parameters</li>\n",
    "<li>Functions to load data & evaluate performance</li>\n",
    "<li>Train the model using in-sample data</li>\n",
    "    <ul>\n",
    "        <li>Trained model should be a <a href=\"https://docs.python.org/3/library/pickle.html\">pickle</a> or a function with values</li>\n",
    "    </ul>\n",
    "    \n",
    "<li>Predict with the trained model using out_sample data and evaluate the model performance</li>\n",
    "</ol>\n",
    "\n",
    "<b>Important Instructions</b>\n",
    "<ol>\n",
    "    <li>Cells that begin with \"#[DONOTCHANGE]\" shouldn't be changed</li>\n",
    "    <li>Submission will not be considered if the program fails to run</li>\n",
    "    <li>Tick frequency shouldn't be modified for out sample data</li>\n",
    "    <li>Only first-prediction will be considered for a mid-price until it changes [More detail below] </li>\n",
    "    <li>Model code should be commented</li>\n",
    "    <li>Submitted notebook shouldn't ideally require trade_in.csv and quote_in.csv files (insample files)</li>\n",
    "    <li>Brief description of the model (Preferably less than 1-page)</li>\n",
    "</ol>\n",
    "\n",
    "<b>Required Output</b><br/>\n",
    "<ol>\n",
    "<li>Minimum #predictions > 10000</li>\n",
    "  <li>Low RMS</li>\n",
    "<li>2 or 3 files with below names</li>\n",
    "<ol>\n",
    "  <li>Model.ipynb : Notebook file</li>\n",
    "  <li>Model.pdf : Model documentation</li>\n",
    "  <li>Model.pickle (optional) : Trained model</li>\n",
    "</ol>\n",
    "</ol>\n",
    "\n",
    "<br/><br/>\n",
    "<b> First-Prediction of every mid-price for evaluation </b>\n",
    "\n",
    "predMid is the predicted mid-price 30 seconds ahead. NA in predMid implies that the model doesn't have a prediction. Only valid predictions will be considered for evaluation.\n",
    "\n",
    "<br/>\n",
    "\n",
    "\n",
    "date|sym|bsize|bid|ask|asize|mid|predMid|ValidPrediction\n",
    "-----|-----|-----|-----|-----|-----|-----|-----|-----\n",
    "2018.01.02D08:00:28.913000000|TEST.L|4816|5008|5011|569|5009.5|5020|Yes\n",
    "2018.01.02D08:00:28.913000000|TEST.L|3327|5008|5011|569|5009.5|5020|<b>No</b>\n",
    "2018.01.02D08:00:28.913000000|TEST.L|3327|5008|5015|616|5011.5|5018|Yes\n",
    "2018.01.02D08:00:28.917000000|TEST.L|3363|5008|5015|616|5011.5|NA|-\n",
    "2018.01.02D08:00:28.939000000|TEST.L|5045|5008|5015|616|5011.5|5018|<b>No</b>\n",
    "2018.01.02D08:00:28.939000000|TEST.L|5045|5008|5016|45|5012|5005|Yes\n",
    "2018.01.02D08:00:29.028000000|TEST.L|1718|5008|5016|45|5012|5005|<b>No</b>\n",
    "2018.01.02D08:00:29.052000000|TEST.L|1718|5008|5015|90|5011.5|NA|-\n",
    "2018.01.02D08:00:29.052000000|TEST.L|1718|5008|5015|256|5011.5|5020|Yes\n",
    "2018.01.02D08:00:29.052000000|TEST.L|1718|5008|5015|278|5011.5|5020|<b>No</b>\n",
    "\n"
   ]
  },
  {
   "cell_type": "markdown",
   "metadata": {
    "colab_type": "text",
    "id": "0CpYyxCQrQK0"
   },
   "source": [
    "<br/><br/><br/>"
   ]
  },
  {
   "cell_type": "markdown",
   "metadata": {
    "colab_type": "text",
    "id": "xRnZJkt-rQLE"
   },
   "source": [
    "<h2>Data </h2>\n",
    "\n",
    "In-sample data\n",
    "<ul>\n",
    "<li>trade_in.csv</li>\n",
    "<li>quote_in.csv</li>\n",
    "</ul>\n",
    "Out-sample data\n",
    "<ul>\n",
    "<li>trade_out.csv</li>\n",
    "<li>quote_out.csv</li>\n",
    "</ul>\n",
    "\n",
    "Your model will be evaluated with a different set of date set.\n",
    "\n",
    "<b> Data Fields </b>\n",
    "    \n",
    "Variable Name|Description|Type|Example\n",
    "-----|-----|-----|-----\n",
    "datetime|Datetime of the event|Datetime in format yyyy.mm.ddDHH:MM:SS.fff|2018.02.10D10:20:20.100\n",
    "ric|Stock ticker|String|TEST.L\n",
    "price|Last trade price|Double|3.45\n",
    "size|Last trade size|Integer|10000\n",
    "bid|Current Bid Price|Double|3.45\n",
    "ask|Current Ask Price|Double|3.5\n",
    "bsize|Current Bid Size|Integer|4000\n",
    "asize|Current Ask Size|Integer|5000\n",
    "mid|0.5 * (bid + ask)|Double|3.475\n",
    "predictedMid|Mid-price predicted by the model|Double|3.65"
   ]
  },
  {
   "cell_type": "code",
   "execution_count": 1,
   "metadata": {
    "colab": {
     "autoexec": {
      "startup": false,
      "wait_interval": 0
     }
    },
    "colab_type": "code",
    "id": "yUOPWbmrEZRp"
   },
   "outputs": [
    {
     "name": "stdout",
     "output_type": "stream",
     "text": [
      "Files exist\n"
     ]
    }
   ],
   "source": [
    "#[DONOTCHANGE]\n",
    "#1st step - Download files from Google drive\n",
    "#Manual download from https://drive.google.com/open?id=1lExwruiCpiOwgE_ijiZ1l6sIYbHnt5v_\n",
    "import os\n",
    "import zipfile\n",
    "import urllib.request\n",
    "\n",
    "def DownloadZipFiles():\n",
    "  print('Download zip file to local drive')\n",
    "  urllib.request.urlretrieve(\"https://drive.google.com/uc?authuser=0&id=1lExwruiCpiOwgE_ijiZ1l6sIYbHnt5v_&export=download\", \"intraday.zip\")  \n",
    "  zip_ref = zipfile.ZipFile('intraday.zip', 'r')\n",
    "  zip_ref.extractall()\n",
    "  zip_ref.close()\n",
    "\n",
    "def FilesExists():\n",
    "  if not os.path.exists('./intraday'):\n",
    "    return False\n",
    "  fileList = ['quote_in.csv', 'quote_out.csv', 'trade_in.csv', 'trade_out.csv']\n",
    "  listDir = os.listdir('./intraday')\n",
    "  listDir.sort()\n",
    "  return listDir == fileList\n",
    "\n",
    "try:    \n",
    "  if not FilesExists():\n",
    "    DownloadZipFiles()\n",
    "  else:\n",
    "    print('Files exist')    \n",
    "except Exception as ex:\n",
    "  print('File download from google drive failed')"
   ]
  },
  {
   "cell_type": "code",
   "execution_count": 2,
   "metadata": {
    "colab": {
     "autoexec": {
      "startup": false,
      "wait_interval": 0
     }
    },
    "colab_type": "code",
    "id": "mLKAIsHorQLE"
   },
   "outputs": [
    {
     "data": {
      "text/plain": [
       "'\\n!pip install pandas\\n!pip install pytz\\n!python -m pip install --upgrade pip\\n'"
      ]
     },
     "execution_count": 2,
     "metadata": {},
     "output_type": "execute_result"
    }
   ],
   "source": [
    "#2nd step - Install all required libraries\n",
    "'''\n",
    "!pip install pandas\n",
    "!pip install pytz\n",
    "!python -m pip install --upgrade pip\n",
    "'''\n"
   ]
  },
  {
   "cell_type": "code",
   "execution_count": 3,
   "metadata": {
    "colab": {
     "autoexec": {
      "startup": false,
      "wait_interval": 0
     }
    },
    "colab_type": "code",
    "id": "N7ygUZtlrQLE"
   },
   "outputs": [],
   "source": [
    "#[DONOTCHANGE]\n",
    "#3rd step - all parameters\n",
    "class Parameters(object):\n",
    "    pass\n",
    "\n",
    "param = Parameters()\n",
    "param.tickSize = 0.5 #tick size is 0.5 GBp i.e. 0.005 GBP\n",
    "\n",
    "param.fileDirectory = './intraday'\n",
    "\n",
    "param.trade_InSampleFile = 'trade_in.csv'\n",
    "param.quote_InSampleFile = 'quote_in.csv'\n",
    "\n",
    "param.trade_OutSampleFile = 'trade_out.csv'\n",
    "param.quote_OutSampleFile = 'quote_out.csv'"
   ]
  },
  {
   "cell_type": "code",
   "execution_count": 4,
   "metadata": {
    "colab": {
     "autoexec": {
      "startup": false,
      "wait_interval": 0
     }
    },
    "colab_type": "code",
    "id": "cNn19fF5rQLE"
   },
   "outputs": [],
   "source": [
    "#4th step - Model specific parameters\n",
    "param.imbalanceThreshold = 0.7\n",
    "param.timeDuration = 30 #30 seconds"
   ]
  },
  {
   "cell_type": "code",
   "execution_count": 5,
   "metadata": {
    "colab": {
     "autoexec": {
      "startup": false,
      "wait_interval": 0
     }
    },
    "colab_type": "code",
    "id": "_K884aO1rQLE"
   },
   "outputs": [],
   "source": [
    "#[DONOTCHANGE]\n",
    "#5th step - Functions to load data & evaluate performance\n",
    "\n",
    "#Initialise libraries and functions\n",
    "from sklearn.metrics import mean_squared_error\n",
    "from math import sqrt\n",
    "\n",
    "import os\n",
    "import numpy as np\n",
    "import pandas as pd\n",
    "\n",
    "#Disable certain warnings\n",
    "pd.options.mode.chained_assignment = None\n",
    "\n",
    "#Identify future mid prices - 30 seconds duration\n",
    "def IdentifyFutureMidPrices(df, predictionDuration = '30S'):\n",
    "    futureData = df.resample(predictionDuration, on = 'datetime').first()\n",
    "    futureData = futureData.shift(periods=-1)\n",
    "    futureData.drop(columns = ['datetime', 'sym', 'bsize', 'bid', 'ask', 'asize'], inplace = True)\n",
    "    futureData.rename(columns = {\"mid\":\"futMid\"}, inplace = True)\n",
    "    futureData.reset_index(inplace = True)\n",
    "    return pd.merge_asof(df, futureData[['datetime', 'futMid']], on='datetime')\n",
    "\n",
    "def ReadCSV(file):\n",
    "    print('Loading file - ' + file)\n",
    "    df = pd.read_csv(file)\n",
    "    df['datetime'] = pd.to_datetime(df['datetime'], format=\"%Y-%m-%dD%H:%M:%S.%f\")\n",
    "    return df\n",
    "\n",
    "#Load data\n",
    "def LoadData(path, tradeFile, quoteFile):\n",
    "    tradeFile = os.path.join(path, tradeFile)\n",
    "    quoteFile = os.path.join(path, quoteFile)\n",
    "\n",
    "    trade_df = ReadCSV(tradeFile)\n",
    "    quote_df = ReadCSV(quoteFile)\n",
    "    \n",
    "    quote_df['mid'] = 0.5*(quote_df['bid'].copy() + quote_df['ask'].copy())\n",
    "    quote_df['midChangeGroup'] = quote_df['mid'].diff().ne(0).cumsum()\n",
    "    quote_df = IdentifyFutureMidPrices(quote_df)\n",
    "    print('Files loaded')\n",
    "    return trade_df, quote_df\n",
    "\n",
    "#Evaluation function\n",
    "#df should contain columns - datetime, sym, bsize, bid, ask, asize, predMid (model predicted mid-price)\n",
    "#Function to evaluate results\n",
    "def RMS(df):\n",
    "    df = df.groupby(['midChangeGroup']).first().reset_index()\n",
    "    tmp = df.dropna(subset=['predMid', 'futMid'])\n",
    "    rms = sqrt(mean_squared_error(tmp['futMid'], tmp['predMid']))\n",
    "    predCount = len(tmp['predMid'])\n",
    "    print('RMS = %.4f. #Predictions = %s' % (rms, predCount))"
   ]
  },
  {
   "cell_type": "code",
   "execution_count": 6,
   "metadata": {
    "colab": {
     "autoexec": {
      "startup": false,
      "wait_interval": 0
     }
    },
    "colab_type": "code",
    "id": "B2RYqpMUrQLT"
   },
   "outputs": [
    {
     "name": "stdout",
     "output_type": "stream",
     "text": [
      "Loading file - ./intraday\\trade_in.csv\n",
      "Loading file - ./intraday\\quote_in.csv\n",
      "Files loaded\n"
     ]
    }
   ],
   "source": [
    "#6th Step\n",
    "#Train the model using in-sample data\n",
    "\n",
    "#Use a pickle to save the trained data or a function with all required calculations\n",
    "#For ex: a regression/neural network trained model should be saved to pickle and loaded in PredictionModel\n",
    "#Another option to define a function for all calculations to predict\n",
    "#def Predict(quote_df, trade_df):\n",
    "#    define all required calculations\n",
    "\n",
    "\n",
    "#Using training data, below model has been designed. You should aim to improve this model\n",
    "#When mid price changes and \n",
    "# imbalance is >  0.7 (param.imbalanceThreshold), predict that mid-price will tick-up\n",
    "# imbalance is < -0.7 (param.imbalanceThreshold), predict that mid-price will tick-down\n",
    "def InSamplePredictionModel(quote_df, trade_df):\n",
    "    #Load pickle to predict or use a function Predict()\n",
    "    print('Prediction model')    \n",
    "    quote_df['tick'] = np.nan\n",
    "    quote_df['predMid'] = np.nan\n",
    "    \n",
    "    quote_df['midChanged'] = quote_df['mid'].diff()\n",
    "    quote_df['imbalance'] = (quote_df['bsize']-quote_df['asize'])/(quote_df['bsize']+quote_df['asize'])\n",
    "    quote_df.loc[(quote_df['midChanged'] != 0) & (quote_df['imbalance'] > param.imbalanceThreshold), 'tick'] = 1\n",
    "    quote_df.loc[(quote_df['midChanged'] != 0) & (quote_df['imbalance'] < -param.imbalanceThreshold), 'tick'] = -1\n",
    "\n",
    "    quote_df['predMid'] = quote_df['mid'] + param.tickSize * quote_df['tick']\n",
    "    return quote_df\n",
    "\n",
    "#Load the csv if not in memory\n",
    "dirContents = dir()\n",
    "if not ('tradeIndf' in dirContents and 'quoteIndf' in dirContents):\n",
    "    tradeIndf, quoteIndf = LoadData(param.fileDirectory, param.trade_InSampleFile, param.quote_InSampleFile)\n",
    "    \n",
    "#Training code\n",
    "#def MachineLearningModel():\n",
    "#    x = model.fit()"
   ]
  },
  {
   "cell_type": "code",
   "execution_count": 7,
   "metadata": {
    "colab": {
     "autoexec": {
      "startup": false,
      "wait_interval": 0
     }
    },
    "colab_type": "code",
    "id": "_4XxwGS9rQLT"
   },
   "outputs": [
    {
     "name": "stdout",
     "output_type": "stream",
     "text": [
      "Loading file - ./intraday\\trade_out.csv\n",
      "Loading file - ./intraday\\quote_out.csv\n",
      "Files loaded\n",
      "Out-sample prediction\n",
      "Prediction model\n",
      "RMS = 2.4470. #Predictions = 9369\n"
     ]
    }
   ],
   "source": [
    "#7th step\n",
    "#Predict with the trained model using out_sample data\n",
    "\n",
    "#Load the out-sample csv if not in memory\n",
    "#Do not change tick frequency for outsample dataframe\n",
    "dirContents = dir()\n",
    "if not ('tradeOutdf' in dirContents and 'quoteOutdf' in dirContents):\n",
    "    tradeOutdf, quoteOutdf = LoadData(param.fileDirectory, param.trade_OutSampleFile, param.quote_OutSampleFile)\n",
    "\n",
    "#Any required calculations\n",
    "def OutSamplePrediction(quote_df, trade_df): \n",
    "    print('Out-sample prediction')    \n",
    "    return InSamplePredictionModel(quote_df, trade_df)\n",
    "    \n",
    "    \n",
    "res = OutSamplePrediction(quoteOutdf, tradeOutdf)\n",
    "RMS(res)"
   ]
  }
 ],
 "metadata": {
  "colab": {
   "collapsed_sections": [],
   "default_view": {},
   "name": "Copy of Hackathon_Mid_price_prediction.ipynb",
   "provenance": [
    {
     "file_id": "1xXu7qgSf1_KeSlpy-sZ4CnXfaDLurEWm",
     "timestamp": 1522883921928
    }
   ],
   "version": "0.3.2",
   "views": {}
  },
  "kernelspec": {
   "display_name": "Python 3",
   "language": "python",
   "name": "python3"
  },
  "language_info": {
   "codemirror_mode": {
    "name": "ipython",
    "version": 3
   },
   "file_extension": ".py",
   "mimetype": "text/x-python",
   "name": "python",
   "nbconvert_exporter": "python",
   "pygments_lexer": "ipython3",
   "version": "3.6.4"
  }
 },
 "nbformat": 4,
 "nbformat_minor": 1
}
